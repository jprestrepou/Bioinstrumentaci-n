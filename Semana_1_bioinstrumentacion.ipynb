{
  "nbformat": 4,
  "nbformat_minor": 0,
  "metadata": {
    "colab": {
      "private_outputs": true,
      "provenance": [],
      "authorship_tag": "ABX9TyNzEvilCJuyoY9azzeNv8/4",
      "include_colab_link": true
    },
    "kernelspec": {
      "name": "python3",
      "display_name": "Python 3"
    },
    "language_info": {
      "name": "python"
    }
  },
  "cells": [
    {
      "cell_type": "markdown",
      "metadata": {
        "id": "view-in-github",
        "colab_type": "text"
      },
      "source": [
        "<a href=\"https://colab.research.google.com/github/jprestrepou/Bioinstrumentaci-n/blob/main/Semana_1_bioinstrumentacion.ipynb\" target=\"_parent\"><img src=\"https://colab.research.google.com/assets/colab-badge.svg\" alt=\"Open In Colab\"/></a>"
      ]
    },
    {
      "cell_type": "markdown",
      "source": [
        "# **Explicación**\n",
        "* Se genera un arreglo de voltajes que van desde 1 V hasta 240 V. np.linspace(1, 240, 500) crea 500 puntos de voltaje igualmente espaciados en ese rango. Esto simula los voltajes que pueden aplicarse a una persona.\n",
        "* Se define un diccionario llamado resistances que asocia diferentes condiciones de la piel con sus respectivas resistencias en ohmios (Ω):\n",
        "  * \"Piel seca\" tiene 100,000 ohmios (100 kΩ).\n",
        "  * \"Piel húmeda\" tiene 10,000 ohmios (10 kΩ).\n",
        "  * \"Piel mojada\" tiene 1,000 ohmios (1 kΩ).\n",
        "* El diccionario thresholds define los umbrales de corriente para diferentes efectos en el cuerpo humano, expresados en amperios:\n",
        "  * \"Percepción\": Umbral de percepción de corriente (1 mA).\n",
        "  * \"Contracciones leves\": Umbral de contracciones leves (5 mA).\n",
        "  * \"Contracciones fuertes\": Umbral de contracciones fuertes (20 mA).\n",
        "  * \"Fibrilación ventricular\": Umbral de fibrilación ventricular (50 mA).\n",
        "* Se itera sobre las condiciones de resistencia del cuerpo (como \"Piel seca\", \"Piel húmeda\", etc.). Para cada condición, se calcula la corriente utilizando la Ley de Ohm, que establece que la corriente $I$ es igual al voltaje $V$ dividido entre la resistencia $R$:\n",
        "$$I = \\frac{R}{V}$$"
      ],
      "metadata": {
        "id": "bdh85Ptrwjqo"
      }
    },
    {
      "cell_type": "code",
      "execution_count": null,
      "metadata": {
        "id": "1aJITwZrNxYJ"
      },
      "outputs": [],
      "source": [
        "import numpy as np\n",
        "import matplotlib.pyplot as plt\n",
        "\n",
        "# Parámetros\n",
        "voltages = np.linspace(1, 240, 500)  # Voltajes de 1V a 240V\n",
        "resistances = {\n",
        "    \"Piel seca\": 100000,  # 100 kΩ\n",
        "    \"Piel húmeda\": 10000, # 10 kΩ\n",
        "    \"Piel mojada\": 1000   # 1 kΩ\n",
        "}\n",
        "\n",
        "# Umbrales de percepción\n",
        "thresholds = {\n",
        "    \"Percepción\": 1e-3,  # 1 mA\n",
        "    \"Contracciones leves\": 5e-3,  # 5 mA\n",
        "    \"Contracciones fuertes\": 20e-3,  # 20 mA\n",
        "    \"Fibrilación ventricular\": 50e-3  # 50 mA\n",
        "}\n",
        "\n",
        "# Simulación y gráficos\n",
        "plt.figure(figsize=(10, 6))\n",
        "\n",
        "for condition, resistance in resistances.items():\n",
        "    currents = voltages / resistance  # Ley de Ohm\n",
        "    plt.plot(voltages, currents * 1e3, label=f'{condition} ({resistance / 1000:.1f} kΩ)')\n",
        "\n",
        "# Añadir líneas de umbrales\n",
        "for effect, current in thresholds.items():\n",
        "    plt.axhline(current * 1e3, color='red', linestyle='--', label=f'{effect} ({current * 1e3:.1f} mA)')\n",
        "\n",
        "# Personalización del gráfico\n",
        "plt.title(\"Corriente percibida según voltaje aplicado y resistencia corporal\")\n",
        "plt.xlabel(\"Voltaje aplicado (V)\")\n",
        "plt.ylabel(\"Corriente percibida (mA)\")\n",
        "plt.legend()\n",
        "plt.grid()\n",
        "plt.show()\n"
      ]
    }
  ]
}