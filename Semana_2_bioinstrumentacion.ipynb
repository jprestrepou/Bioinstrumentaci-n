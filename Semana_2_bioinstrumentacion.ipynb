{
  "nbformat": 4,
  "nbformat_minor": 0,
  "metadata": {
    "colab": {
      "private_outputs": true,
      "provenance": [],
      "authorship_tag": "ABX9TyMep2LNSP/cOioyt3rVci4J",
      "include_colab_link": true
    },
    "kernelspec": {
      "name": "python3",
      "display_name": "Python 3"
    },
    "language_info": {
      "name": "python"
    }
  },
  "cells": [
    {
      "cell_type": "markdown",
      "metadata": {
        "id": "view-in-github",
        "colab_type": "text"
      },
      "source": [
        "<a href=\"https://colab.research.google.com/github/jprestrepou/Bioinstrumentaci-n/blob/main/Semana_2_bioinstrumentacion.ipynb\" target=\"_parent\"><img src=\"https://colab.research.google.com/assets/colab-badge.svg\" alt=\"Open In Colab\"/></a>"
      ]
    },
    {
      "cell_type": "markdown",
      "source": [
        "# **Explicación**\n",
        "\n",
        "* **Frecuencia:** Se define la frecuencia de la señal en Hz. En este caso es de 5 Hz.\n",
        "* **Amplitud:** La amplitud de la señal, que se establece en 1.\n",
        "* **Fase:** La fase de la señal, que puede ajustarse en radianes. En este caso es 0.\n",
        "* **Tiempo:** La duración total de la señal en segundos.\n",
        "* **Muestras:** El número de puntos que generamos en la señal (para obtener una visualización continua, debemos usar un número suficientemente alto de muestras).\n",
        "* **np.linspace:** Genera el vector de tiempo t en un rango de 0 a tiempo, con el número de muestras especificado.\n",
        "Señal senoide: La señal se genera usando la fórmula estándar de la onda seno:\n",
        "$$ A \\cdot \\sin(2\\pi f t + \\phi) $$\n",
        "donde $f$ es la frecuencia y $\\phi$ es la fase.\n",
        "* **Señal digital:** Se obtiene tomando puntos discretos de la señal senoide, lo que simulamos con np.arange para obtener un conjunto de muestras con una frecuencia más baja."
      ],
      "metadata": {
        "id": "xpIJSibzvQnl"
      }
    },
    {
      "cell_type": "code",
      "execution_count": null,
      "metadata": {
        "id": "Eu-OcBdhuPUd"
      },
      "outputs": [],
      "source": [
        "import numpy as np\n",
        "import matplotlib.pyplot as plt\n",
        "\n",
        "# Parámetros de la señal\n",
        "frecuencia = 5  # Frecuencia de la señal en Hz\n",
        "amplitud = 1     # Amplitud de la señal\n",
        "fase = 0         # Fase de la señal en radianes\n",
        "tiempo = 1       # Duración de la señal en segundos\n",
        "muestras = 1000  # Número de puntos para la señal analógica\n",
        "\n",
        "# Generar el vector de tiempo para la señal analógica\n",
        "t = np.linspace(0, tiempo, muestras)\n",
        "\n",
        "# Generar la señal senoide analógica\n",
        "senal_analogica = amplitud * np.sin(2 * np.pi * frecuencia * t + fase)\n",
        "\n",
        "# Generar una señal digital (muestras discretas)\n",
        "muestras_discretas = 10  # Muestras por segundo para la señal digital\n",
        "t_digital = np.arange(0, tiempo, 1/muestras_discretas)  # Tiempo discretizado\n",
        "senal_digital = amplitud * np.sin(2 * np.pi * frecuencia * t_digital + fase)  # Señal digital\n",
        "\n",
        "# Crear el gráfico con dos subgráficos\n",
        "fig, ax = plt.subplots(2, 1, figsize=(10, 8))\n",
        "\n",
        "# Señal analógica\n",
        "ax[0].plot(t, senal_analogica, label='Señal Analógica', color='b')\n",
        "ax[0].set_title('Señal Analógica')\n",
        "ax[0].set_xlabel('Tiempo (s)')\n",
        "ax[0].set_ylabel('Amplitud')\n",
        "ax[0].grid(True)\n",
        "\n",
        "# Señal digital\n",
        "ax[1].stem(t_digital, senal_digital, label='Señal Digital', basefmt=\" \", linefmt='r', markerfmt='ro')\n",
        "ax[1].set_title('Señal Digital')\n",
        "ax[1].set_xlabel('Tiempo (s)')\n",
        "ax[1].set_ylabel('Amplitud')\n",
        "ax[1].grid(True)\n",
        "\n",
        "# Ajustar el espacio entre los subgráficos\n",
        "plt.tight_layout()\n",
        "\n",
        "# Mostrar el gráfico\n",
        "plt.show()\n",
        "\n"
      ]
    },
    {
      "cell_type": "markdown",
      "source": [
        "# **Explicación**\n",
        "* **Onda P:** Tiene una frecuencia de 0.2 Hz, que representa el inicio de la contracción auricular.\n",
        "* **Onda R:** Es la componente más prominente y tiene una frecuencia de 1.2 Hz, que representa la despolarización ventricular.\n",
        "* **Onda T:** Representa la repolarización ventricular y tiene una frecuencia de 0.4 Hz.\n",
        "* **Tiempo de simulación:** Se genera un vector de tiempo t que va de 0 a 5 segundos, con 1000 puntos de tiempo igualmente distribuidos. Este rango de tiempo es adecuado para visualizar varias repeticiones de la señal.\n",
        "* **Señales seno:** Usamos varias señales sinusoidales para aproximar la forma de onda de un ECG real. Las ondas P, R, y T se suman para obtener la señal ECG aproximada.\n"
      ],
      "metadata": {
        "id": "KchcA1NE3qQ7"
      }
    },
    {
      "cell_type": "code",
      "source": [
        "import numpy as np\n",
        "import matplotlib.pyplot as plt\n",
        "\n",
        "# Parámetros de la señal ECG simulada\n",
        "f_pico = 1.2  # Frecuencia del pico (onda R) en Hz\n",
        "f_onda_t = 0.4  # Frecuencia de la onda T en Hz\n",
        "f_onda_p = 0.2  # Frecuencia de la onda P en Hz\n",
        "amplitud = 1  # Amplitud de las ondas\n",
        "\n",
        "# Tiempo de simulación (de 0 a 5 segundos, con 1000 puntos)\n",
        "t = np.linspace(0, 5, 1000)\n",
        "\n",
        "# Combinación de varias señales seno para simular el ECG\n",
        "onda_r = amplitud * np.sin(2 * np.pi * f_pico * t)  # Onda R (pico principal)\n",
        "onda_t = 0.5 * amplitud * np.sin(2 * np.pi * f_onda_t * t)  # Onda T\n",
        "onda_p = 0.3 * amplitud * np.sin(2 * np.pi * f_onda_p * t)  # Onda P\n",
        "\n",
        "# Señal ECG aproximada (suma de las ondas)\n",
        "ecg_simulada = onda_r + onda_t + onda_p\n",
        "\n",
        "# Graficar la señal ECG\n",
        "plt.figure(figsize=(10, 6))\n",
        "plt.plot(t, ecg_simulada, label=r'$ECG(t) \\approx A(\\sin(2\\pi f_{pico} t) + \\sin(2\\pi f_{T} t) + \\sin(2\\pi f_{P} t))$', color='b')\n",
        "\n",
        "# Títulos y etiquetas\n",
        "plt.title(\"Simulación de una señal ECG aproximada usando senos\")\n",
        "plt.xlabel(\"Tiempo (s)\")\n",
        "plt.ylabel(\"Amplitud\")\n",
        "plt.grid(True)\n",
        "plt.legend()\n",
        "\n",
        "# Mostrar gráfico\n",
        "plt.show()\n"
      ],
      "metadata": {
        "id": "knSVdQ623mYZ"
      },
      "execution_count": null,
      "outputs": []
    },
    {
      "cell_type": "markdown",
      "source": [
        "# **Explicación**\n",
        "\n",
        "Vamos a agregar más detalles a la simulación y aumentar la fidelidad de la señal, modelando las ondas P, R, S, QRS y T con diferentes frecuencias, amplitudes y duraciones. Además, simularemos el intervalo entre las ondas."
      ],
      "metadata": {
        "id": "LJTR0ob34U03"
      }
    },
    {
      "cell_type": "code",
      "source": [
        "import numpy as np\n",
        "import matplotlib.pyplot as plt\n",
        "\n",
        "# Parámetros de las ondas\n",
        "f_r = 1.2  # Frecuencia de la onda R (Hz)\n",
        "f_q = 1.0  # Frecuencia de la onda Q (Hz)\n",
        "f_s = 2.5  # Frecuencia de la onda S (Hz)\n",
        "f_p = 0.3  # Frecuencia de la onda P (Hz)\n",
        "f_t = 0.5  # Frecuencia de la onda T (Hz)\n",
        "\n",
        "amplitud_r = 1.2  # Amplitud de la onda R\n",
        "amplitud_q = 0.5  # Amplitud de la onda Q\n",
        "amplitud_s = 0.7  # Amplitud de la onda S\n",
        "amplitud_p = 0.3  # Amplitud de la onda P\n",
        "amplitud_t = 0.5  # Amplitud de la onda T\n",
        "\n",
        "# Tiempo de simulación\n",
        "t = np.linspace(0, 5, 1000)  # 5 segundos de duración\n",
        "\n",
        "# Generación de las ondas\n",
        "onda_r = amplitud_r * np.sin(2 * np.pi * f_r * t)  # Onda R\n",
        "onda_q = amplitud_q * np.sin(2 * np.pi * f_q * t)  # Onda Q\n",
        "onda_s = amplitud_s * np.sin(2 * np.pi * f_s * t)  # Onda S\n",
        "onda_p = amplitud_p * np.sin(2 * np.pi * f_p * t)  # Onda P\n",
        "onda_t = amplitud_t * np.sin(2 * np.pi * f_t * t)  # Onda T\n",
        "\n",
        "# Construir la señal ECG simplificada\n",
        "# Aquí vamos a modelar un ciclo de ECG agregando las ondas P, Q, R, S y T\n",
        "# El ciclo ECG es generalmente de 1 segundo, así que repetimos la señal\n",
        "\n",
        "ecg_simulado = np.zeros_like(t)\n",
        "# Onda P\n",
        "ecg_simulado += np.roll(onda_p, 200)  # Desplazar la onda P para simular su posición\n",
        "# Onda QRS (complejo QRS: Q, R y S)\n",
        "ecg_simulado += np.roll(onda_q, 300)  # Desplazar la onda Q\n",
        "ecg_simulado += onda_r  # Onda R\n",
        "ecg_simulado += np.roll(onda_s, 500)  # Desplazar la onda S\n",
        "# Onda T\n",
        "ecg_simulado += np.roll(onda_t, 700)  # Desplazar la onda T\n",
        "\n",
        "# Graficar la señal ECG\n",
        "plt.figure(figsize=(10, 6))\n",
        "plt.plot(t, ecg_simulado, label=\"Señal ECG Simulada\", color='b')\n",
        "\n",
        "# Títulos y etiquetas\n",
        "plt.title(\"Simulación Mejorada de una Señal ECG\")\n",
        "plt.xlabel(\"Tiempo (s)\")\n",
        "plt.ylabel(\"Amplitud\")\n",
        "plt.grid(True)\n",
        "plt.legend()\n",
        "\n",
        "# Mostrar gráfico\n",
        "plt.show()\n"
      ],
      "metadata": {
        "id": "g3opXCpS3HVC"
      },
      "execution_count": null,
      "outputs": []
    },
    {
      "cell_type": "code",
      "source": [
        "print(\"Hola\")"
      ],
      "metadata": {
        "id": "DFB691_lD2CD"
      },
      "execution_count": null,
      "outputs": []
    }
  ]
}